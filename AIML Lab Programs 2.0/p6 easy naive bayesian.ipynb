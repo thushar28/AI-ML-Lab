{
 "cells": [
  {
   "cell_type": "code",
   "execution_count": 1,
   "id": "576b6da0",
   "metadata": {},
   "outputs": [
    {
     "name": "stdout",
     "output_type": "stream",
     "text": [
      "Training set length = 8\n",
      "Test set length - 6\n",
      "\n",
      "Probability for yes = 0.5\n",
      "Probability for no = 0.5\n",
      "\n",
      "Preditions on test set:\n",
      "\n",
      "Test Instance \t\t\t\t\tPredicted Output \tActual Output\n",
      "['sunny' 'cool' 'normal' 'weak'] \t\t no \t\t\t yes\n",
      "['overcast' 'cool' 'normal' 'strong'] \t\t yes \t\t\t yes\n",
      "['rain' 'cool' 'normal' 'weak'] \t\t no \t\t\t yes\n",
      "['overcast' 'mild' 'high' 'strong'] \t\t yes \t\t\t yes\n",
      "['overcast' 'hot' 'high' 'weak'] \t\t yes \t\t\t yes\n",
      "['rain' 'mild' 'high' 'strong'] \t\t yes \t\t\t no\n",
      "\n",
      "Accuracy = 50.0%\n"
     ]
    }
   ],
   "source": [
    "import numpy as np\n",
    "import pandas as pd\n",
    "from sklearn.model_selection import train_test_split as tts\n",
    "from sklearn.metrics import accuracy_score as acs\n",
    "\n",
    "dataset = pd.read_csv('id3.csv')\n",
    "X = dataset.iloc[:, :-1].values\n",
    "y = dataset.iloc[:, -1].values\n",
    "\n",
    "X_train, X_test, y_train, y_test = tts(X, y, random_state=0, test_size=0.4)\n",
    "\n",
    "print('Training set length = {}\\nTest set length - {}'.format(X_train.shape[0], X_test.shape[0]))\n",
    "\n",
    "pYes = list(y_train).count('yes') / y_train.shape[0]\n",
    "pNo = list(y_train).count('no') / y_train.shape[0]\n",
    "\n",
    "print(f'\\nProbability for yes = {pYes}\\nProbability for no = {pNo}')\n",
    "\n",
    "pYesValues = {}\n",
    "pNoValues = {}\n",
    "\n",
    "countYesValues = {}\n",
    "countNoValues = {}\n",
    "\n",
    "for i, row in enumerate(X_train):\n",
    "    for j, val in enumerate(row):\n",
    "        if y_train[i] == 'yes':\n",
    "            countYesValues[val] = countYesValues.get(val, 0) + 1\n",
    "        else:\n",
    "            countNoValues[val] = countNoValues.get(val, 0) + 1\n",
    "            \n",
    "uniqueValues = np.unique(X)\n",
    "\n",
    "for val in uniqueValues:\n",
    "    pYesValues[val] = countYesValues.get(val, 0) / list(y_train).count('yes')\n",
    "    pNoValues[val] = countNoValues.get(val, 0) / list(y_train).count('no')\n",
    "    \n",
    "\n",
    "print('\\nPreditions on test set:\\n')\n",
    "print('Test Instance', '\\t\\t\\t\\t\\tPredicted Output', '\\tActual Output')\n",
    "y_pred = []\n",
    "for i, row in enumerate(X_test):\n",
    "    pYesInstance = pYes\n",
    "    pNoInstance = pNo\n",
    "    for j, val in enumerate(row):\n",
    "        pYesInstance *= pYesValues.get(val, 0)\n",
    "        pNoInstance *= pNoValues.get(val, 0)\n",
    "    y_pred.append('yes' if pYesInstance >= pNoInstance else 'no')\n",
    "    print(row, \"\\t\\t\",y_pred[i], \"\\t\\t\\t\", y_test[i])\n",
    "\n",
    "print('\\nAccuracy = {}%'.format(acs(y_test, y_pred)*100))"
   ]
  },
  {
   "cell_type": "code",
   "execution_count": null,
   "id": "c346cf32",
   "metadata": {},
   "outputs": [],
   "source": []
  },
  {
   "cell_type": "code",
   "execution_count": null,
   "id": "a49e1238",
   "metadata": {},
   "outputs": [],
   "source": []
  }
 ],
 "metadata": {
  "kernelspec": {
   "display_name": "base",
   "language": "python",
   "name": "python3"
  },
  "language_info": {
   "codemirror_mode": {
    "name": "ipython",
    "version": 3
   },
   "file_extension": ".py",
   "mimetype": "text/x-python",
   "name": "python",
   "nbconvert_exporter": "python",
   "pygments_lexer": "ipython3",
   "version": "3.9.13"
  },
  "vscode": {
   "interpreter": {
    "hash": "5e63bbad4d6f484ca8d6bef64596b0103ae98760431170a498f3c5c04971e401"
   }
  }
 },
 "nbformat": 4,
 "nbformat_minor": 5
}
